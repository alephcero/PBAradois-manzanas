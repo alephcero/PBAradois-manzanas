{
 "cells": [
  {
   "cell_type": "markdown",
   "metadata": {},
   "source": [
    "En general seria util poder tener algun shape o geojson. Poruqe el kml lo baoj y no lo abre con qgis (v14 o v18). Vajo el csv y reconsturyo los poligonos. Para manzanas funciona bien. Para radios tengo problemas. Te paso cada caso"
   ]
  },
  {
   "cell_type": "code",
   "execution_count": null,
   "metadata": {
    "collapsed": false
   },
   "outputs": [],
   "source": [
    "import geopandas as gpd\n",
    "import os\n",
    "import json\n",
    "import pandas as pd\n",
    "from string import replace\n",
    "from shapely import geometry"
   ]
  },
  {
   "cell_type": "code",
   "execution_count": 2,
   "metadata": {
    "collapsed": true
   },
   "outputs": [],
   "source": [
    "def textoApoli(stringCoords):\n",
    "    callesPoli = stringCoords.replace('0.0 ','').split(',')\n",
    "    callesPoli = callesPoli[0:-1]\n",
    "\n",
    "    lista = []\n",
    "    for i in range(len(callesPoli)):\n",
    "        if i % 2 == 0:\n",
    "            punto = [float(callesPoli[i]),float(callesPoli[i+1])]\n",
    "            lista.append(punto)\n",
    "        else:\n",
    "            pass\n",
    "    polygon = geometry.Polygon(lista)\n",
    "    return polygon"
   ]
  },
  {
   "cell_type": "markdown",
   "metadata": {},
   "source": [
    "## manzanas"
   ]
  },
  {
   "cell_type": "code",
   "execution_count": 3,
   "metadata": {
    "collapsed": false
   },
   "outputs": [
    {
     "data": {
      "text/html": [
       "<div>\n",
       "<table border=\"1\" class=\"dataframe\">\n",
       "  <thead>\n",
       "    <tr style=\"text-align: right;\">\n",
       "      <th></th>\n",
       "      <th>coords</th>\n",
       "      <th>tipo</th>\n",
       "      <th>geometry</th>\n",
       "    </tr>\n",
       "  </thead>\n",
       "  <tbody>\n",
       "    <tr>\n",
       "      <th>1</th>\n",
       "      <td>-63.23976119742675,-37.45725926272377,0.0 -63....</td>\n",
       "      <td>Polygon Inner Boundary</td>\n",
       "      <td>POLYGON ((-63.23976119742675 -37.4572592627237...</td>\n",
       "    </tr>\n",
       "    <tr>\n",
       "      <th>2</th>\n",
       "      <td>-63.23981305454304,-37.460301595881454,0.0 -63...</td>\n",
       "      <td>Polygon Inner Boundary</td>\n",
       "      <td>POLYGON ((-63.23981305454304 -37.4603015958814...</td>\n",
       "    </tr>\n",
       "    <tr>\n",
       "      <th>3</th>\n",
       "      <td>-63.241806494307596,-37.46015847807085,0.0 -63...</td>\n",
       "      <td>Polygon Inner Boundary</td>\n",
       "      <td>POLYGON ((-63.2418064943076 -37.46015847807085...</td>\n",
       "    </tr>\n",
       "    <tr>\n",
       "      <th>5</th>\n",
       "      <td>-63.253822947775454,-37.45265270626447,0.0 -63...</td>\n",
       "      <td>Polygon Inner Boundary</td>\n",
       "      <td>POLYGON ((-63.25382294777545 -37.4526527062644...</td>\n",
       "    </tr>\n",
       "    <tr>\n",
       "      <th>6</th>\n",
       "      <td>-63.255212711376274,-37.4581093475905,0.0 -63....</td>\n",
       "      <td>Polygon Inner Boundary</td>\n",
       "      <td>POLYGON ((-63.25521271137627 -37.4581093475905...</td>\n",
       "    </tr>\n",
       "  </tbody>\n",
       "</table>\n",
       "</div>"
      ],
      "text/plain": [
       "                                              coords                    tipo  \\\n",
       "1  -63.23976119742675,-37.45725926272377,0.0 -63....  Polygon Inner Boundary   \n",
       "2  -63.23981305454304,-37.460301595881454,0.0 -63...  Polygon Inner Boundary   \n",
       "3  -63.241806494307596,-37.46015847807085,0.0 -63...  Polygon Inner Boundary   \n",
       "5  -63.253822947775454,-37.45265270626447,0.0 -63...  Polygon Inner Boundary   \n",
       "6  -63.255212711376274,-37.4581093475905,0.0 -63....  Polygon Inner Boundary   \n",
       "\n",
       "                                            geometry  \n",
       "1  POLYGON ((-63.23976119742675 -37.4572592627237...  \n",
       "2  POLYGON ((-63.23981305454304 -37.4603015958814...  \n",
       "3  POLYGON ((-63.2418064943076 -37.46015847807085...  \n",
       "5  POLYGON ((-63.25382294777545 -37.4526527062644...  \n",
       "6  POLYGON ((-63.25521271137627 -37.4581093475905...  "
      ]
     },
     "execution_count": 3,
     "metadata": {},
     "output_type": "execute_result"
    }
   ],
   "source": [
    "data = pd.read_csv('manzanas.csv')\n",
    "data = data.iloc[:,[2,3]]\n",
    "data.columns = ['coords','tipo']\n",
    "data = data.loc[data.tipo == 'Polygon Inner Boundary',:]\n",
    "data['geometry'] = data.coords.map(textoApoli)\n",
    "data.head()"
   ]
  },
  {
   "cell_type": "code",
   "execution_count": 4,
   "metadata": {
    "collapsed": false
   },
   "outputs": [],
   "source": [
    "crs = {'init': 'epsg:4326'}\n",
    "geo_df = gpd.GeoDataFrame(data, crs=crs, geometry=data.geometry)"
   ]
  },
  {
   "cell_type": "code",
   "execution_count": 5,
   "metadata": {
    "collapsed": false
   },
   "outputs": [],
   "source": [
    "geo_df.to_file('manzanas')"
   ]
  },
  {
   "cell_type": "markdown",
   "metadata": {
    "collapsed": true
   },
   "source": [
    "## radios\n",
    "\n",
    "El problema con los radios es que algunos poligonos no se cierran bien y tienen una isla en el medio. Y tampoco se las la proyeccion de coordenadas. En el set de manzanas claramente esta en latlong, pero este no se, tengo que adivinarlo. Estaria bueno que lo cambien a latlong o indiquen que proyeccion se usa\n",
    "\n",
    "El index de la fila con problemas esta en la lista problems que detecto al final"
   ]
  },
  {
   "cell_type": "code",
   "execution_count": 68,
   "metadata": {
    "collapsed": true
   },
   "outputs": [],
   "source": [
    "def detectoErrores(stringCoords):\n",
    "    callesPoli = stringCoords.replace('MULtipoLYGON (((','')\n",
    "    callesPoli = callesPoli.replace(')))','')\n",
    "    callesPoli = callesPoli.split(',')\n",
    "\n",
    "    lista = []\n",
    "    for i in range(len(callesPoli)):\n",
    "        coords = callesPoli[i].split(' ')  \n",
    "        punto = [float(coords[0]),float(coords[1])]\n",
    "        lista.append(punto)\n",
    "    polygon = geometry.Polygon(lista)\n",
    "    return polygon"
   ]
  },
  {
   "cell_type": "code",
   "execution_count": 69,
   "metadata": {
    "collapsed": true
   },
   "outputs": [],
   "source": [
    "def textoApoliRadios(stringCoords):\n",
    "    callesPoli = stringCoords.replace('MULtipoLYGON ','')\n",
    "    callesPoli = callesPoli.replace('(','')\n",
    "    callesPoli = callesPoli.replace(')','')\n",
    "    callesPoli = callesPoli.split(',')\n",
    "\n",
    "    lista = []\n",
    "    for i in range(len(callesPoli)):\n",
    "        coords = callesPoli[i].split(' ')  \n",
    "        punto = [float(coords[0]),float(coords[1])]\n",
    "        lista.append(punto)\n",
    "    polygon = geometry.Polygon(lista)\n",
    "    return polygon"
   ]
  },
  {
   "cell_type": "code",
   "execution_count": 70,
   "metadata": {
    "collapsed": false
   },
   "outputs": [],
   "source": [
    "radios = pd.read_csv('radios.csv')\n",
    "radios['geometry'] = radios.WKT.map(textoApoliRadios)\n"
   ]
  },
  {
   "cell_type": "markdown",
   "metadata": {},
   "source": [
    "Aca hay un ejemplo de los errores que te digo en como se conforma el poligono: "
   ]
  },
  {
   "cell_type": "code",
   "execution_count": 67,
   "metadata": {
    "collapsed": false
   },
   "outputs": [
    {
     "name": "stderr",
     "output_type": "stream",
     "text": [
      "Self-intersection at or near point 5649505.6643000003 6164385.1277999999\n"
     ]
    },
    {
     "data": {
      "image/svg+xml": [
       "<svg xmlns=\"http://www.w3.org/2000/svg\" xmlns:xlink=\"http://www.w3.org/1999/xlink\" width=\"300\" height=\"300\" viewBox=\"5649067.56961 6163968.55151 1082.309284 1129.269384\" preserveAspectRatio=\"xMinYMin meet\"><g transform=\"matrix(1,0,0,-1,0,12329066.3724)\"><path fill-rule=\"evenodd\" fill=\"#ff3333\" stroke=\"#555555\" stroke-width=\"7.52846256001\" opacity=\"0.6\" d=\"M 5650024.5736,6164845.3939 L 5650074.7581,6164760.3839 L 5650108.0541,6164690.8732 L 5650083.6613,6164679.6805 L 5650006.9462,6164648.6133 L 5649940.435,6164620.9023 L 5649880.0032,6164596.1888 L 5649793.4201,6164559.8186 L 5649874.5332,6164429.9974 L 5649788.5334,6164356.9975 L 5649685.5447,6164271.0714 L 5649610.5337,6164191.9978 L 5649575.5338,6164154.9978 L 5649519.5339,6164095.9979 L 5649486.534,6164061.998 L 5649432.6386,6164010.3763 L 5649355.0619,6164069.4021 L 5649320.7708,6164093.5745 L 5649248.5345,6164131.9978 L 5649186.1619,6164162.9748 L 5649164.6699,6164178.6054 L 5649137.4206,6164206.5069 L 5649109.3944,6164235.2039 L 5649175.5346,6164320.9974 L 5649230.5345,6164382.9973 L 5649280.5343,6164424.9973 L 5649308.5343,6164441.9972 L 5649343.5342,6164463.9972 L 5649438.534,6164533.9971 L 5649496.0491,6164588.8025 L 5649513.9962,6164628.6846 L 5649513.9962,6164690.5019 L 5649519.9785,6164762.2897 L 5649531.5338,6164806.9965 L 5649619.5336,6164886.9964 L 5649744.5333,6164963.9963 L 5649895.533,6165055.9961 L 5649918.4612,6165016.8833 L 5649929.533,6164997.9962 L 5650024.5736,6164845.3939 L 5649505.6643,6164385.1278 L 5649435.836,6164316.9074 L 5649400.5341,6164280.9976 L 5649393.5342,6164274.9976 L 5649420.5341,6164254.9976 L 5649452.7556,6164219.7085 L 5649466.6086,6164187.8647 L 5649473.534,6164152.9978 L 5649475.534,6164140.9979 L 5649584.0101,6164231.7292 L 5649505.6643,6164385.1278 L 5650024.5736,6164845.3939 z\" /></g></svg>"
      ],
      "text/plain": [
       "<shapely.geometry.polygon.Polygon at 0x7f3652e82790>"
      ]
     },
     "execution_count": 67,
     "metadata": {},
     "output_type": "execute_result"
    }
   ],
   "source": [
    "textoApoliRadios2(radios.WKT[problems[3]])\n"
   ]
  },
  {
   "cell_type": "code",
   "execution_count": 64,
   "metadata": {
    "collapsed": false
   },
   "outputs": [],
   "source": [
    "problems = []\n",
    "for i in range(radios.shape[0]):\n",
    "    try:\n",
    "        textoApoliRadios(radios.WKT[i])\n",
    "    except:\n",
    "        problems.append(i)"
   ]
  },
  {
   "cell_type": "markdown",
   "metadata": {},
   "source": [
    "Filas con problemas:"
   ]
  },
  {
   "cell_type": "code",
   "execution_count": 71,
   "metadata": {
    "collapsed": false
   },
   "outputs": [
    {
     "data": {
      "text/plain": [
       "[130,\n",
       " 181,\n",
       " 784,\n",
       " 1067,\n",
       " 1131,\n",
       " 1375,\n",
       " 1644,\n",
       " 1714,\n",
       " 1723,\n",
       " 1854,\n",
       " 2271,\n",
       " 2279,\n",
       " 2297,\n",
       " 2405,\n",
       " 2416,\n",
       " 2471,\n",
       " 2553,\n",
       " 2638,\n",
       " 2641,\n",
       " 2706,\n",
       " 2707,\n",
       " 2712,\n",
       " 2717,\n",
       " 2724,\n",
       " 2750,\n",
       " 2770,\n",
       " 2803,\n",
       " 2822,\n",
       " 2866,\n",
       " 2946,\n",
       " 2978,\n",
       " 3019,\n",
       " 3148,\n",
       " 3301,\n",
       " 3530,\n",
       " 3620,\n",
       " 3622,\n",
       " 3627,\n",
       " 3705,\n",
       " 3796,\n",
       " 4383,\n",
       " 4401,\n",
       " 5111,\n",
       " 5197,\n",
       " 5207,\n",
       " 5270,\n",
       " 5284,\n",
       " 5285,\n",
       " 6333,\n",
       " 6990,\n",
       " 6991,\n",
       " 7025,\n",
       " 7044,\n",
       " 7052,\n",
       " 7678,\n",
       " 7720,\n",
       " 7726,\n",
       " 10950,\n",
       " 11030,\n",
       " 11037,\n",
       " 11098,\n",
       " 12560,\n",
       " 12989,\n",
       " 13811,\n",
       " 13821,\n",
       " 13829,\n",
       " 13851,\n",
       " 14019,\n",
       " 14020,\n",
       " 14034,\n",
       " 14036,\n",
       " 14038,\n",
       " 14046,\n",
       " 14049,\n",
       " 14057,\n",
       " 14187,\n",
       " 14224,\n",
       " 14225,\n",
       " 14228,\n",
       " 14246,\n",
       " 14261,\n",
       " 14287,\n",
       " 14301,\n",
       " 14304,\n",
       " 14307,\n",
       " 14346,\n",
       " 14380,\n",
       " 14450,\n",
       " 14553,\n",
       " 14584,\n",
       " 14626,\n",
       " 14666,\n",
       " 15012,\n",
       " 15141,\n",
       " 15179,\n",
       " 15184,\n",
       " 15193,\n",
       " 15208,\n",
       " 15216,\n",
       " 15232,\n",
       " 15831,\n",
       " 15922,\n",
       " 15928,\n",
       " 15940,\n",
       " 16071,\n",
       " 16101,\n",
       " 16102,\n",
       " 16103,\n",
       " 16166,\n",
       " 16176,\n",
       " 16252,\n",
       " 16448,\n",
       " 16464,\n",
       " 16489,\n",
       " 16517,\n",
       " 16518,\n",
       " 17341,\n",
       " 17362,\n",
       " 17839,\n",
       " 17840,\n",
       " 17970,\n",
       " 18110,\n",
       " 18253,\n",
       " 18256,\n",
       " 18919,\n",
       " 18921,\n",
       " 18923,\n",
       " 19422,\n",
       " 19430,\n",
       " 19453,\n",
       " 19455,\n",
       " 19549]"
      ]
     },
     "execution_count": 71,
     "metadata": {},
     "output_type": "execute_result"
    }
   ],
   "source": [
    "problems"
   ]
  },
  {
   "cell_type": "code",
   "execution_count": null,
   "metadata": {
    "collapsed": true
   },
   "outputs": [],
   "source": []
  },
  {
   "cell_type": "code",
   "execution_count": null,
   "metadata": {
    "collapsed": true
   },
   "outputs": [],
   "source": []
  }
 ],
 "metadata": {
  "kernelspec": {
   "display_name": "Python 2",
   "language": "python",
   "name": "python2"
  },
  "language_info": {
   "codemirror_mode": {
    "name": "ipython",
    "version": 2
   },
   "file_extension": ".py",
   "mimetype": "text/x-python",
   "name": "python",
   "nbconvert_exporter": "python",
   "pygments_lexer": "ipython2",
   "version": "2.7.13"
  }
 },
 "nbformat": 4,
 "nbformat_minor": 2
}
