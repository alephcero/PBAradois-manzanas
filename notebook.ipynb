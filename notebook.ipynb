{
 "cells": [
  {
   "cell_type": "markdown",
   "metadata": {},
   "source": [
    "En general seria util poder tener algun shape o geojson. Poruqe el kml lo baoj y no lo abre con qgis (v14 o v18). Vajo el csv y reconsturyo los poligonos. Para manzanas funciona bien. Para radios tengo problemas. Te paso cada caso"
   ]
  },
  {
   "cell_type": "code",
   "execution_count": 5,
   "metadata": {
    "collapsed": false
   },
   "outputs": [],
   "source": [
    "import geopandas as gpd\n",
    "import os\n",
    "import json\n",
    "import pandas as pd\n",
    "from string import replace\n",
    "from shapely import geometry\n",
    "import matplotlib.pyplot as plt\n",
    "%matplotlib inline"
   ]
  },
  {
   "cell_type": "code",
   "execution_count": 6,
   "metadata": {
    "collapsed": true
   },
   "outputs": [],
   "source": [
    "def textoApoli(stringCoords):\n",
    "    callesPoli = stringCoords.replace('0.0 ','').split(',')\n",
    "    callesPoli = callesPoli[0:-1]\n",
    "\n",
    "    lista = []\n",
    "    for i in range(len(callesPoli)):\n",
    "        if i % 2 == 0:\n",
    "            punto = [float(callesPoli[i]),float(callesPoli[i+1])]\n",
    "            lista.append(punto)\n",
    "        else:\n",
    "            pass\n",
    "    polygon = geometry.Polygon(lista)\n",
    "    return polygon"
   ]
  },
  {
   "cell_type": "markdown",
   "metadata": {},
   "source": [
    "## manzanas"
   ]
  },
  {
   "cell_type": "code",
   "execution_count": 7,
   "metadata": {
    "collapsed": false
   },
   "outputs": [
    {
     "data": {
      "text/html": [
       "<div>\n",
       "<table border=\"1\" class=\"dataframe\">\n",
       "  <thead>\n",
       "    <tr style=\"text-align: right;\">\n",
       "      <th></th>\n",
       "      <th>coords</th>\n",
       "      <th>tipo</th>\n",
       "      <th>geometry</th>\n",
       "    </tr>\n",
       "  </thead>\n",
       "  <tbody>\n",
       "    <tr>\n",
       "      <th>1</th>\n",
       "      <td>-63.23976119742675,-37.45725926272377,0.0 -63....</td>\n",
       "      <td>Polygon Inner Boundary</td>\n",
       "      <td>POLYGON ((-63.23976119742675 -37.4572592627237...</td>\n",
       "    </tr>\n",
       "    <tr>\n",
       "      <th>2</th>\n",
       "      <td>-63.23981305454304,-37.460301595881454,0.0 -63...</td>\n",
       "      <td>Polygon Inner Boundary</td>\n",
       "      <td>POLYGON ((-63.23981305454304 -37.4603015958814...</td>\n",
       "    </tr>\n",
       "    <tr>\n",
       "      <th>3</th>\n",
       "      <td>-63.241806494307596,-37.46015847807085,0.0 -63...</td>\n",
       "      <td>Polygon Inner Boundary</td>\n",
       "      <td>POLYGON ((-63.2418064943076 -37.46015847807085...</td>\n",
       "    </tr>\n",
       "    <tr>\n",
       "      <th>5</th>\n",
       "      <td>-63.253822947775454,-37.45265270626447,0.0 -63...</td>\n",
       "      <td>Polygon Inner Boundary</td>\n",
       "      <td>POLYGON ((-63.25382294777545 -37.4526527062644...</td>\n",
       "    </tr>\n",
       "    <tr>\n",
       "      <th>6</th>\n",
       "      <td>-63.255212711376274,-37.4581093475905,0.0 -63....</td>\n",
       "      <td>Polygon Inner Boundary</td>\n",
       "      <td>POLYGON ((-63.25521271137627 -37.4581093475905...</td>\n",
       "    </tr>\n",
       "  </tbody>\n",
       "</table>\n",
       "</div>"
      ],
      "text/plain": [
       "                                              coords                    tipo  \\\n",
       "1  -63.23976119742675,-37.45725926272377,0.0 -63....  Polygon Inner Boundary   \n",
       "2  -63.23981305454304,-37.460301595881454,0.0 -63...  Polygon Inner Boundary   \n",
       "3  -63.241806494307596,-37.46015847807085,0.0 -63...  Polygon Inner Boundary   \n",
       "5  -63.253822947775454,-37.45265270626447,0.0 -63...  Polygon Inner Boundary   \n",
       "6  -63.255212711376274,-37.4581093475905,0.0 -63....  Polygon Inner Boundary   \n",
       "\n",
       "                                            geometry  \n",
       "1  POLYGON ((-63.23976119742675 -37.4572592627237...  \n",
       "2  POLYGON ((-63.23981305454304 -37.4603015958814...  \n",
       "3  POLYGON ((-63.2418064943076 -37.46015847807085...  \n",
       "5  POLYGON ((-63.25382294777545 -37.4526527062644...  \n",
       "6  POLYGON ((-63.25521271137627 -37.4581093475905...  "
      ]
     },
     "execution_count": 7,
     "metadata": {},
     "output_type": "execute_result"
    }
   ],
   "source": [
    "data = pd.read_csv('manzanas.csv')\n",
    "data = data.iloc[:,[2,3]]\n",
    "data.columns = ['coords','tipo']\n",
    "data = data.loc[data.tipo == 'Polygon Inner Boundary',:]\n",
    "data['geometry'] = data.coords.map(textoApoli)\n",
    "data.head()"
   ]
  },
  {
   "cell_type": "code",
   "execution_count": 8,
   "metadata": {
    "collapsed": false
   },
   "outputs": [],
   "source": [
    "crs = {'init': 'epsg:4326'}\n",
    "geo_df = gpd.GeoDataFrame(data, crs=crs, geometry=data.geometry)"
   ]
  },
  {
   "cell_type": "code",
   "execution_count": 9,
   "metadata": {
    "collapsed": false
   },
   "outputs": [],
   "source": [
    "geo_df.to_file('manzanas')"
   ]
  },
  {
   "cell_type": "markdown",
   "metadata": {},
   "source": [
    "Faltan manzanas en berazategui, puede ser??"
   ]
  },
  {
   "cell_type": "markdown",
   "metadata": {
    "collapsed": true
   },
   "source": [
    "## radios\n",
    "\n",
    "El problema con los radios es que algunos poligonos no se cierran bien y tienen una isla en el medio. Y tampoco se las la proyeccion de coordenadas. En el set de manzanas claramente esta en latlong, pero este no se, tengo que adivinarlo. Use 22185 que es posgar 94 franja 5, pero no se si es el que va.  Estaria bueno que lo cambien a latlong o indiquen que proyeccion se usa\n",
    "\n",
    "El index de la fila con problemas esta en la lista problems que detecto al final"
   ]
  },
  {
   "cell_type": "code",
   "execution_count": 10,
   "metadata": {
    "collapsed": true
   },
   "outputs": [],
   "source": [
    "def detectoErrores(stringCoords):\n",
    "    callesPoli = stringCoords.replace('MULtipoLYGON (((','')\n",
    "    callesPoli = callesPoli.replace(')))','')\n",
    "    callesPoli = callesPoli.split(',')\n",
    "\n",
    "    lista = []\n",
    "    for i in range(len(callesPoli)):\n",
    "        coords = callesPoli[i].split(' ')  \n",
    "        punto = [float(coords[0]),float(coords[1])]\n",
    "        lista.append(punto)\n",
    "    polygon = geometry.Polygon(lista)\n",
    "    return polygon"
   ]
  },
  {
   "cell_type": "code",
   "execution_count": 11,
   "metadata": {
    "collapsed": true
   },
   "outputs": [],
   "source": [
    "def textoApoliRadios(stringCoords):\n",
    "    callesPoli = stringCoords.replace('MULtipoLYGON ','')\n",
    "    callesPoli = callesPoli.replace('(','')\n",
    "    callesPoli = callesPoli.replace(')','')\n",
    "    callesPoli = callesPoli.split(',')\n",
    "\n",
    "    lista = []\n",
    "    for i in range(len(callesPoli)):\n",
    "        coords = callesPoli[i].split(' ')  \n",
    "        punto = [float(coords[0]),float(coords[1])]\n",
    "        lista.append(punto)\n",
    "    polygon = geometry.Polygon(lista)\n",
    "    return polygon"
   ]
  },
  {
   "cell_type": "code",
   "execution_count": 12,
   "metadata": {
    "collapsed": false
   },
   "outputs": [
    {
     "data": {
      "text/html": [
       "<div>\n",
       "<table border=\"1\" class=\"dataframe\">\n",
       "  <thead>\n",
       "    <tr style=\"text-align: right;\">\n",
       "      <th></th>\n",
       "      <th>WKT</th>\n",
       "      <th>clave_radio</th>\n",
       "      <th>codigo_partido</th>\n",
       "      <th>codigo_localidad</th>\n",
       "      <th>codigo_fraccion</th>\n",
       "      <th>codigo_radio</th>\n",
       "      <th>tipo</th>\n",
       "      <th>geometry</th>\n",
       "    </tr>\n",
       "  </thead>\n",
       "  <tbody>\n",
       "    <tr>\n",
       "      <th>0</th>\n",
       "      <td>MULtipoLYGON (((5206321.5461 5943948.9766,5213...</td>\n",
       "      <td>60070000105</td>\n",
       "      <td>7</td>\n",
       "      <td>0.0</td>\n",
       "      <td>1</td>\n",
       "      <td>5</td>\n",
       "      <td>RURAL</td>\n",
       "      <td>POLYGON ((5206321.5461 5943948.9766, 5213303.5...</td>\n",
       "    </tr>\n",
       "    <tr>\n",
       "      <th>1</th>\n",
       "      <td>MULtipoLYGON (((5210111.0 5919549.5,5206678 59...</td>\n",
       "      <td>60070000108</td>\n",
       "      <td>7</td>\n",
       "      <td>0.0</td>\n",
       "      <td>1</td>\n",
       "      <td>8</td>\n",
       "      <td>RURAL</td>\n",
       "      <td>POLYGON ((5210111 5919549.5, 5206678 5915885, ...</td>\n",
       "    </tr>\n",
       "    <tr>\n",
       "      <th>2</th>\n",
       "      <td>MULtipoLYGON (((5236564 5888720,5236012 588817...</td>\n",
       "      <td>60070000305</td>\n",
       "      <td>7</td>\n",
       "      <td>0.0</td>\n",
       "      <td>3</td>\n",
       "      <td>5</td>\n",
       "      <td>RURAL</td>\n",
       "      <td>POLYGON ((5236564 5888720, 5236012 5888179, 52...</td>\n",
       "    </tr>\n",
       "    <tr>\n",
       "      <th>3</th>\n",
       "      <td>MULtipoLYGON (((5212246.5 5881357.0,5211934.0 ...</td>\n",
       "      <td>60070800406</td>\n",
       "      <td>7</td>\n",
       "      <td>80.0</td>\n",
       "      <td>4</td>\n",
       "      <td>6</td>\n",
       "      <td>URBANO</td>\n",
       "      <td>POLYGON ((5212246.5 5881357, 5211934 5881030.5...</td>\n",
       "    </tr>\n",
       "    <tr>\n",
       "      <th>4</th>\n",
       "      <td>MULtipoLYGON (((5211611 5884224,5211594 588397...</td>\n",
       "      <td>60070800402</td>\n",
       "      <td>7</td>\n",
       "      <td>80.0</td>\n",
       "      <td>4</td>\n",
       "      <td>2</td>\n",
       "      <td>URBANO</td>\n",
       "      <td>POLYGON ((5211611 5884224, 5211594 5883970, 52...</td>\n",
       "    </tr>\n",
       "  </tbody>\n",
       "</table>\n",
       "</div>"
      ],
      "text/plain": [
       "                                                 WKT  clave_radio  \\\n",
       "0  MULtipoLYGON (((5206321.5461 5943948.9766,5213...  60070000105   \n",
       "1  MULtipoLYGON (((5210111.0 5919549.5,5206678 59...  60070000108   \n",
       "2  MULtipoLYGON (((5236564 5888720,5236012 588817...  60070000305   \n",
       "3  MULtipoLYGON (((5212246.5 5881357.0,5211934.0 ...  60070800406   \n",
       "4  MULtipoLYGON (((5211611 5884224,5211594 588397...  60070800402   \n",
       "\n",
       "   codigo_partido  codigo_localidad  codigo_fraccion  codigo_radio    tipo  \\\n",
       "0               7               0.0                1             5   RURAL   \n",
       "1               7               0.0                1             8   RURAL   \n",
       "2               7               0.0                3             5   RURAL   \n",
       "3               7              80.0                4             6  URBANO   \n",
       "4               7              80.0                4             2  URBANO   \n",
       "\n",
       "                                            geometry  \n",
       "0  POLYGON ((5206321.5461 5943948.9766, 5213303.5...  \n",
       "1  POLYGON ((5210111 5919549.5, 5206678 5915885, ...  \n",
       "2  POLYGON ((5236564 5888720, 5236012 5888179, 52...  \n",
       "3  POLYGON ((5212246.5 5881357, 5211934 5881030.5...  \n",
       "4  POLYGON ((5211611 5884224, 5211594 5883970, 52...  "
      ]
     },
     "execution_count": 12,
     "metadata": {},
     "output_type": "execute_result"
    }
   ],
   "source": [
    "radios = pd.read_csv('radios.csv')\n",
    "radios['geometry'] = radios.WKT.map(textoApoliRadios)\n",
    "radios.head()"
   ]
  },
  {
   "cell_type": "code",
   "execution_count": 13,
   "metadata": {
    "collapsed": true
   },
   "outputs": [],
   "source": [
    "crs = {'init': 'epsg:22185'}\n",
    "radios = gpd.GeoDataFrame(radios, crs=crs, geometry=radios.geometry)"
   ]
  },
  {
   "cell_type": "code",
   "execution_count": 15,
   "metadata": {
    "collapsed": false
   },
   "outputs": [],
   "source": [
    "radios.to_file('radios.GeoJSON', driver='GeoJSON')"
   ]
  },
  {
   "cell_type": "code",
   "execution_count": 16,
   "metadata": {
    "collapsed": false
   },
   "outputs": [],
   "source": [
    "problems = []\n",
    "for i in range(radios.shape[0]):\n",
    "    try:\n",
    "        detectoErrores(radios.WKT[i])\n",
    "    except:\n",
    "        problems.append(i)"
   ]
  },
  {
   "cell_type": "markdown",
   "metadata": {},
   "source": [
    "Filas con problemas:"
   ]
  },
  {
   "cell_type": "code",
   "execution_count": 17,
   "metadata": {
    "collapsed": false
   },
   "outputs": [
    {
     "data": {
      "text/plain": [
       "[130,\n",
       " 181,\n",
       " 784,\n",
       " 1067,\n",
       " 1131,\n",
       " 1375,\n",
       " 1644,\n",
       " 1714,\n",
       " 1723,\n",
       " 1854,\n",
       " 2271,\n",
       " 2279,\n",
       " 2297,\n",
       " 2405,\n",
       " 2416,\n",
       " 2471,\n",
       " 2553,\n",
       " 2638,\n",
       " 2641,\n",
       " 2706,\n",
       " 2707,\n",
       " 2712,\n",
       " 2717,\n",
       " 2724,\n",
       " 2750,\n",
       " 2770,\n",
       " 2803,\n",
       " 2822,\n",
       " 2866,\n",
       " 2946,\n",
       " 2978,\n",
       " 3019,\n",
       " 3148,\n",
       " 3301,\n",
       " 3530,\n",
       " 3620,\n",
       " 3622,\n",
       " 3627,\n",
       " 3705,\n",
       " 3796,\n",
       " 4383,\n",
       " 4401,\n",
       " 5111,\n",
       " 5197,\n",
       " 5207,\n",
       " 5270,\n",
       " 5284,\n",
       " 5285,\n",
       " 6333,\n",
       " 6990,\n",
       " 6991,\n",
       " 7025,\n",
       " 7044,\n",
       " 7052,\n",
       " 7678,\n",
       " 7720,\n",
       " 7726,\n",
       " 10950,\n",
       " 11030,\n",
       " 11037,\n",
       " 11098,\n",
       " 12560,\n",
       " 12989,\n",
       " 13811,\n",
       " 13821,\n",
       " 13829,\n",
       " 13851,\n",
       " 14019,\n",
       " 14020,\n",
       " 14034,\n",
       " 14036,\n",
       " 14038,\n",
       " 14046,\n",
       " 14049,\n",
       " 14057,\n",
       " 14187,\n",
       " 14224,\n",
       " 14225,\n",
       " 14228,\n",
       " 14246,\n",
       " 14261,\n",
       " 14287,\n",
       " 14301,\n",
       " 14304,\n",
       " 14307,\n",
       " 14346,\n",
       " 14380,\n",
       " 14450,\n",
       " 14553,\n",
       " 14584,\n",
       " 14626,\n",
       " 14666,\n",
       " 15012,\n",
       " 15141,\n",
       " 15179,\n",
       " 15184,\n",
       " 15193,\n",
       " 15208,\n",
       " 15216,\n",
       " 15232,\n",
       " 15831,\n",
       " 15922,\n",
       " 15928,\n",
       " 15940,\n",
       " 16071,\n",
       " 16101,\n",
       " 16102,\n",
       " 16103,\n",
       " 16166,\n",
       " 16176,\n",
       " 16252,\n",
       " 16448,\n",
       " 16464,\n",
       " 16489,\n",
       " 16517,\n",
       " 16518,\n",
       " 17341,\n",
       " 17362,\n",
       " 17839,\n",
       " 17840,\n",
       " 17970,\n",
       " 18110,\n",
       " 18253,\n",
       " 18256,\n",
       " 18919,\n",
       " 18921,\n",
       " 18923,\n",
       " 19422,\n",
       " 19430,\n",
       " 19453,\n",
       " 19455,\n",
       " 19549]"
      ]
     },
     "execution_count": 17,
     "metadata": {},
     "output_type": "execute_result"
    }
   ],
   "source": [
    "problems"
   ]
  },
  {
   "cell_type": "markdown",
   "metadata": {},
   "source": [
    "Aca hay un ejemplo de los errores que te digo en como se conforma el poligono: "
   ]
  },
  {
   "cell_type": "code",
   "execution_count": 18,
   "metadata": {
    "collapsed": false
   },
   "outputs": [
    {
     "name": "stderr",
     "output_type": "stream",
     "text": [
      "Self-intersection at or near point 5458119.1774364049 5813942.406233483\n"
     ]
    },
    {
     "data": {
      "image/svg+xml": [
       "<svg xmlns=\"http://www.w3.org/2000/svg\" xmlns:xlink=\"http://www.w3.org/1999/xlink\" width=\"300\" height=\"300\" viewBox=\"5447460.44 5799449.44 28360.12 28743.12\" preserveAspectRatio=\"xMinYMin meet\"><g transform=\"matrix(1,0,0,-1,0,11627642.0)\"><path fill-rule=\"evenodd\" fill=\"#ff3333\" stroke=\"#555555\" stroke-width=\"191.6208\" opacity=\"0.6\" d=\"M 5474756.0,5815985.5 L 5470953.0,5812145.5 L 5468932.3182,5810075.4372 L 5468574.5743,5809708.9508 L 5463260.0,5804264.5 L 5463827.5,5803688.0 L 5462371.0,5802193.5 L 5460703.0,5800514.0 L 5457945.5,5803246.5 L 5456306.0,5804859.0 L 5454283.0,5806739.5 L 5454216.53,5806798.2099 L 5452587.0,5808237.5 L 5448835.5,5811981.5 L 5448886.5,5812035.0 L 5448525.0,5812392.0 L 5456363.5,5820058.0 L 5463356.5579,5827075.8737 L 5463408.5,5827128.0 L 5468330.5593,5822317.0304 L 5471561.0,5819159.5 L 5471561.14,5819159.3609 L 5474756.0,5815985.5 L 5457098.0,5813817.0 L 5457259.0,5813658.5 L 5457345.0,5813747.0 L 5457425.5,5813829.0 L 5457512.5,5813744.5 L 5457593.0,5813667.0 L 5457676.0,5813590.0 L 5457761.5,5813676.0 L 5457835.0,5813706.0 L 5457889.5,5813725.5 L 5457912.0,5813733.5 L 5457935.5,5813742.0 L 5458001.0,5813766.0 L 5458003.1325,5813768.1397 L 5458148.5,5813914.0 L 5457988.5,5814069.0 L 5458077.5,5814160.0 L 5458161.5,5814246.0 L 5458080.5,5814324.0 L 5457996.0,5814405.0 L 5457916.0,5814482.0 L 5457833.5,5814562.0 L 5457778.5,5814616.5 L 5457751.0,5814642.5 L 5457725.5,5814667.5 L 5457703.0,5814689.5 L 5457685.0,5814703.0 L 5457669.5,5814710.5 L 5457652.0,5814705.0 L 5457645.5,5814700.0 L 5457584.9747,5814679.0832 L 5457577.5,5814676.5 L 5457555.0,5814668.5 L 5457535.5,5814661.5 L 5457476.5,5814641.5 L 5457506.0,5814563.0 L 5457336.5,5814393.5 L 5457464.5,5814278.0 L 5457507.5,5814237.0 L 5457427.5,5814155.5 L 5457347.5,5814073.0 L 5457266.0,5813989.0 L 5457181.5,5813902.0 L 5457098.0,5813817.0 L 5474756.0,5815985.5 z\" /></g></svg>"
      ],
      "text/plain": [
       "<shapely.geometry.polygon.Polygon at 0x7f9cb0f60b90>"
      ]
     },
     "execution_count": 18,
     "metadata": {},
     "output_type": "execute_result"
    }
   ],
   "source": [
    "textoApoliRadios(radios.WKT[problems[0]])\n"
   ]
  },
  {
   "cell_type": "code",
   "execution_count": null,
   "metadata": {
    "collapsed": true
   },
   "outputs": [],
   "source": []
  }
 ],
 "metadata": {
  "kernelspec": {
   "display_name": "Python 2",
   "language": "python",
   "name": "python2"
  },
  "language_info": {
   "codemirror_mode": {
    "name": "ipython",
    "version": 2
   },
   "file_extension": ".py",
   "mimetype": "text/x-python",
   "name": "python",
   "nbconvert_exporter": "python",
   "pygments_lexer": "ipython2",
   "version": "2.7.13"
  }
 },
 "nbformat": 4,
 "nbformat_minor": 2
}
